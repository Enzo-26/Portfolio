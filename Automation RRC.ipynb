{
 "cells": [
  {
   "cell_type": "markdown",
   "id": "27b5d7d9",
   "metadata": {},
   "source": [
    "## The code below takes any numpy matrix as an input and returns it in reduced echelon form"
   ]
  },
  {
   "cell_type": "code",
   "execution_count": 3,
   "id": "4c6437ae",
   "metadata": {},
   "outputs": [],
   "source": [
    "import numpy as np"
   ]
  },
  {
   "cell_type": "code",
   "execution_count": 4,
   "id": "0054f91c",
   "metadata": {},
   "outputs": [],
   "source": [
    "def reduced(matrix):\n",
    "\n",
    "    # Convert matrix entries to floats to avoid approximated results\n",
    "\n",
    "    A = np.array(matrix, dtype=np.float64)  \n",
    "\n",
    "\n",
    "    i = 0 # row\n",
    "\n",
    "    j = 0 # column\n",
    "\n",
    "    i_non_zero = 0;\n",
    "\n",
    "    # Reduced echelon is possible for all non-zero matrices\n",
    "\n",
    "    # CHECK FOR NON ZERO MATRICES\n",
    "\n",
    "    while (not np.all(A == 0)):\n",
    "\n",
    "        # Check for left most non-zero column and check for non-zero rows below pivot elements\n",
    "\n",
    "        while (not np.all(A.T[j] == 0) and not np.all(A[i] == 0)):\n",
    "\n",
    "            # Check for the first non-zero entry in the first non-zero column\n",
    "\n",
    "            # Check for pivot element being zero\n",
    "\n",
    "            # i_non_zero captures the first non-zero entry\n",
    "\n",
    "            while (A[i][j] == 0):\n",
    "\n",
    "                while A[i_non_zero][j] == 0:\n",
    "\n",
    "                    i_non_zero += 1\n",
    "\n",
    "                if (i_non_zero==len(A)): break   \n",
    "\n",
    "                # Swap the pivot row with the A[i_non_zero] row\n",
    "\n",
    "                # Make the pivot element non-zero\n",
    "\n",
    "                A[[i, i_non_zero]] = A[[i_non_zero, i]]\n",
    "\n",
    "                break\n",
    "\n",
    "            \n",
    "\n",
    "            if (A[i][j] != 0):\n",
    "\n",
    "                # Make the pivot element to be 1\n",
    "\n",
    "                A[i] = A[i] / A[i][j]\n",
    "\n",
    "                # Making the rest of the elemnts in the column 0\n",
    "\n",
    "                for x in range(len(A)):\n",
    "\n",
    "                    if (x != i and A[i][j] != 0):\n",
    "\n",
    "                        # Here, we make all the non-zero entries below and above the pivot element to  zero.\n",
    "\n",
    "                        A[x] = A[x] - A[i] * A[x][j]\n",
    "\n",
    "                \n",
    "\n",
    "                j += 1\n",
    "\n",
    "                break;\n",
    "\n",
    "        i += 1\n",
    "\n",
    "        if (i == len(A)): break\n",
    "\n",
    "        \n",
    "\n",
    "        if (j == len(A[0])): break\n",
    "\n",
    "     \n",
    "\n",
    "    return A"
   ]
  },
  {
   "cell_type": "code",
   "execution_count": 10,
   "id": "f3ede38a",
   "metadata": {},
   "outputs": [
    {
     "data": {
      "text/plain": [
       "array([[  1. ,   0. ,   0. ,  -1. ,  20. ],\n",
       "       [  0. ,   0. , -13. ,   4.5,  26. ],\n",
       "       [  0. ,   0. ,   9. ,   0. ,   0. ],\n",
       "       [  0. ,   0. ,   5. ,  78. , -19. ]])"
      ]
     },
     "execution_count": 10,
     "metadata": {},
     "output_type": "execute_result"
    }
   ],
   "source": [
    "A = np.array([[0,0,9,0,0],[0,0,-13,4.5,26],[1,0,0,-1,20],[0,0,5,78,-19]])\n",
    "reduced(A)"
   ]
  }
 ],
 "metadata": {
  "interpreter": {
   "hash": "502b4f985cf1bc9beab785d95708a81953b7919cc80ddaf39c305bee0998c0dc"
  },
  "kernelspec": {
   "display_name": "Python 3.8.8 64-bit ('base': conda)",
   "name": "python3"
  },
  "language_info": {
   "codemirror_mode": {
    "name": "ipython",
    "version": 3
   },
   "file_extension": ".py",
   "mimetype": "text/x-python",
   "name": "python",
   "nbconvert_exporter": "python",
   "pygments_lexer": "ipython3",
   "version": "3.8.8"
  }
 },
 "nbformat": 4,
 "nbformat_minor": 5
}
