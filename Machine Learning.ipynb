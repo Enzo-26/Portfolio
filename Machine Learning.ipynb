{
 "cells": [
  {
   "cell_type": "code",
   "execution_count": 3,
   "metadata": {},
   "outputs": [],
   "source": [
    "# importing the necessary packages and libraries\n",
    "import pandas as pd\n",
    "import numpy as np\n",
    "import statsmodels.api as sm\n",
    "import seaborn as sns\n",
    "import matplotlib.pyplot as plt\n",
    "from statsmodels.graphics.tsaplots import plot_acf\n",
    "from statsmodels.graphics.tsaplots import plot_pacf\n",
    "from statsmodels.tsa.arima.model import ARIMA\n",
    "from sklearn.model_selection import KFold\n",
    "from sklearn.model_selection import cross_val_score\n",
    "from sklearn.metrics import roc_curve, roc_auc_score\n",
    "from sklearn.model_selection import cross_validate\n",
    "from sklearn.metrics import RocCurveDisplay\n",
    "from sklearn.model_selection import StratifiedShuffleSplit\n",
    "from sklearn import metrics\n",
    "from numpy import linalg as LA"
   ]
  },
  {
   "cell_type": "markdown",
   "metadata": {},
   "source": [
    "## 1 - Simulation"
   ]
  },
  {
   "cell_type": "markdown",
   "metadata": {},
   "source": [
    "<b> 1.1 </b>"
   ]
  },
  {
   "cell_type": "code",
   "execution_count": 4,
   "metadata": {},
   "outputs": [],
   "source": [
    "def generate_x(N):\n",
    "\n",
    "    '''\n",
    "    This function generates a multivariate matrix x with N observations\n",
    "\n",
    "    Parameters\n",
    "    ----------\n",
    "    N: no. of observations\n",
    "\n",
    "    Returns\n",
    "    -------\n",
    "    x: multivariate matrix \n",
    "\n",
    "    '''\n",
    "\n",
    "    mu = np.array([5,2,1])\n",
    "    covm = np.array([[1, 0.4, 0], [0.4, 1.5, 0], [0, 0, 2]])\n",
    "\n",
    "    np.random.seed(102030)\n",
    "\n",
    "    x = np.random.multivariate_normal(mu, covm, size = N)\n",
    "\n",
    "    return x"
   ]
  },
  {
   "cell_type": "markdown",
   "metadata": {},
   "source": [
    "### 1.2 ~ Simulate N = 20 using distribution from generate_x(20)"
   ]
  },
  {
   "cell_type": "code",
   "execution_count": 5,
   "metadata": {},
   "outputs": [
    {
     "name": "stdout",
     "output_type": "stream",
     "text": [
      "We have generated a dataset 'x' with 20 observations\n"
     ]
    }
   ],
   "source": [
    "N = 20\n",
    "x = generate_x(N)\n",
    "\n",
    "# store original x values for later use\n",
    "x_org = x\n",
    "print(f\"We have generated a dataset 'x' with {x.shape[0]} observations\")"
   ]
  },
  {
   "cell_type": "code",
   "execution_count": 6,
   "metadata": {},
   "outputs": [
    {
     "data": {
      "text/plain": [
       "array([[ 4.36374315,  2.20768854,  4.7923386 ],\n",
       "       [ 4.78005043,  1.95944174,  0.19442543],\n",
       "       [ 4.94450806,  2.31057042,  0.68006288],\n",
       "       [ 5.84325979,  3.76992373,  0.20265144],\n",
       "       [ 5.88522661,  1.6214196 ,  2.43798989],\n",
       "       [ 5.92188098,  2.9105985 ,  1.62120249],\n",
       "       [ 4.57082527,  1.81443434,  0.91044842],\n",
       "       [ 5.06325986,  3.4012444 , -1.03317302],\n",
       "       [ 3.5198066 ,  0.22396532,  1.29333433],\n",
       "       [ 4.11901961,  2.97843056,  0.89976909],\n",
       "       [ 5.22283911,  3.17868247,  2.84084466],\n",
       "       [ 5.57565248,  1.4708037 ,  1.02155662],\n",
       "       [ 2.92542633,  1.54639316,  0.96832803],\n",
       "       [ 5.45094481,  1.06150187, -1.42269635],\n",
       "       [ 4.85000315,  2.15154362,  1.94078026],\n",
       "       [ 5.75498172,  1.16128924,  2.58317303],\n",
       "       [ 3.60739389,  1.34093718,  0.05871876],\n",
       "       [ 2.42002217,  0.17975934,  0.05491707],\n",
       "       [ 5.45026833,  1.28869353, -0.3032869 ],\n",
       "       [ 5.74967708,  1.81090254, -0.97248063]])"
      ]
     },
     "execution_count": 6,
     "metadata": {},
     "output_type": "execute_result"
    }
   ],
   "source": [
    "x"
   ]
  },
  {
   "cell_type": "markdown",
   "metadata": {},
   "source": [
    "## 2 - OLS, Bootstrapping, and Multicollinearity"
   ]
  },
  {
   "cell_type": "markdown",
   "metadata": {},
   "source": [
    "According to the instructions, the true model is given by \n",
    "\\begin{equation}\n",
    "y=\\alpha + \\beta_1 x_1 + \\beta_2 x_2+ϵ. \n",
    "\\end{equation}\n",
    "\n",
    "where $\\alpha = 10, \\beta_1 = 1$ and $\\beta_2 = 5$\n",
    "\n",
    "As we see above, our $x$ matrix contains $x_1, x_2$ and $x_3$ and no $intercept$ yet. Since the true model $DGP$ is given by only $x_1$ and $x_2$ we will need to drop the 3rd column $x_3$ and add an $intercept$ in order to get the true values of y which afterwards we will use to fit a OLS of our matrix $x$ including the $x_3$ column. "
   ]
  },
  {
   "cell_type": "code",
   "execution_count": 7,
   "metadata": {},
   "outputs": [],
   "source": [
    "def slice_x(x):\n",
    "    '''\n",
    "    This function drops the 3rd column of x and adds an intercept to the dataset \n",
    "\n",
    "    Parameters\n",
    "    -----------\n",
    "    x: matrix\n",
    "\n",
    "    Returns\n",
    "    -------\n",
    "    x: matrix with 2 columns and an intercept\n",
    "    '''\n",
    "    \n",
    "    x = x[:,:2]\n",
    "\n",
    "    x = sm.add_constant(x)\n",
    "    \n",
    "    return(x)"
   ]
  },
  {
   "cell_type": "code",
   "execution_count": 8,
   "metadata": {},
   "outputs": [
    {
     "data": {
      "text/plain": [
       "array([[1.        , 4.36374315, 2.20768854],\n",
       "       [1.        , 4.78005043, 1.95944174],\n",
       "       [1.        , 4.94450806, 2.31057042],\n",
       "       [1.        , 5.84325979, 3.76992373],\n",
       "       [1.        , 5.88522661, 1.6214196 ],\n",
       "       [1.        , 5.92188098, 2.9105985 ],\n",
       "       [1.        , 4.57082527, 1.81443434],\n",
       "       [1.        , 5.06325986, 3.4012444 ],\n",
       "       [1.        , 3.5198066 , 0.22396532],\n",
       "       [1.        , 4.11901961, 2.97843056],\n",
       "       [1.        , 5.22283911, 3.17868247],\n",
       "       [1.        , 5.57565248, 1.4708037 ],\n",
       "       [1.        , 2.92542633, 1.54639316],\n",
       "       [1.        , 5.45094481, 1.06150187],\n",
       "       [1.        , 4.85000315, 2.15154362],\n",
       "       [1.        , 5.75498172, 1.16128924],\n",
       "       [1.        , 3.60739389, 1.34093718],\n",
       "       [1.        , 2.42002217, 0.17975934],\n",
       "       [1.        , 5.45026833, 1.28869353],\n",
       "       [1.        , 5.74967708, 1.81090254]])"
      ]
     },
     "execution_count": 8,
     "metadata": {},
     "output_type": "execute_result"
    }
   ],
   "source": [
    "x_true = slice_x(x)\n",
    "x_true # we can see constant column is now added"
   ]
  },
  {
   "cell_type": "markdown",
   "metadata": {},
   "source": [
    "### 2.1"
   ]
  },
  {
   "cell_type": "markdown",
   "metadata": {},
   "source": [
    "Now we will generate $y$ using the $x_1$ and $x_2$ from above."
   ]
  },
  {
   "cell_type": "code",
   "execution_count": 9,
   "metadata": {},
   "outputs": [],
   "source": [
    "def generate_y(x, N, *coef_params):\n",
    "\n",
    "    '''\n",
    "    This function takes a dataset x and \"N\" number of observations and generates a y array with given parameters\n",
    "\n",
    "    Parameters\n",
    "    ----------\n",
    "    x: multivariate matrix\n",
    "    N: number of observations\n",
    "    *coef_params: alpha, betas\n",
    "\n",
    "    Returns\n",
    "    -------\n",
    "    \n",
    "    y: vector \n",
    "\n",
    "    '''\n",
    "\n",
    "    np.random.seed(102030)\n",
    "\n",
    "    e = np.random.normal(0, 1, N)\n",
    "\n",
    "    betas = np.array([*coef_params])\n",
    "\n",
    "    y = np.dot(x,betas) + e\n",
    "\n",
    "    return y"
   ]
  },
  {
   "cell_type": "code",
   "execution_count": 10,
   "metadata": {},
   "outputs": [],
   "source": [
    "alpha_true = 10\n",
    "beta1_true = 1\n",
    "beta2_true = 5\n",
    "y = generate_y(x_true, N, alpha_true, beta1_true, beta2_true)"
   ]
  },
  {
   "cell_type": "code",
   "execution_count": 11,
   "metadata": {},
   "outputs": [
    {
     "name": "stdout",
     "output_type": "stream",
     "text": [
      "The true values for y using equation two are below: \n",
      " [28.0837742  24.48063489 25.75244067 34.1232512  23.88402891 30.27909793\n",
      " 23.41676728 32.25600022 14.41396184 28.44736185 32.60758873 22.79313659\n",
      " 21.67420452 20.83314731 26.69337737 22.00068443 21.25965511 13.73242251\n",
      " 21.83041346 24.52193686]\n"
     ]
    }
   ],
   "source": [
    "print(f\"The true values for y using equation two are below: \\n {y}\")"
   ]
  },
  {
   "cell_type": "code",
   "execution_count": 12,
   "metadata": {},
   "outputs": [],
   "source": [
    "sm.OLS(y,x_true).fit().summary(); # we checked it although it wasnt required"
   ]
  },
  {
   "cell_type": "markdown",
   "metadata": {},
   "source": [
    "### 2.2"
   ]
  },
  {
   "cell_type": "markdown",
   "metadata": {},
   "source": [
    "As mentioned above, now we will use $y$ and the original dataset $x$ which includes $x_1$, $x_2$ and $x_3$ and add an intercept to it in order to fit an OLS regression.  "
   ]
  },
  {
   "cell_type": "code",
   "execution_count": 13,
   "metadata": {},
   "outputs": [
    {
     "data": {
      "text/html": [
       "<table class=\"simpletable\">\n",
       "<caption>OLS Regression Results</caption>\n",
       "<tr>\n",
       "  <th>Dep. Variable:</th>            <td>y</td>        <th>  R-squared:         </th> <td>   0.987</td>\n",
       "</tr>\n",
       "<tr>\n",
       "  <th>Model:</th>                   <td>OLS</td>       <th>  Adj. R-squared:    </th> <td>   0.985</td>\n",
       "</tr>\n",
       "<tr>\n",
       "  <th>Method:</th>             <td>Least Squares</td>  <th>  F-statistic:       </th> <td>   410.6</td>\n",
       "</tr>\n",
       "<tr>\n",
       "  <th>Date:</th>             <td>Thu, 17 Mar 2022</td> <th>  Prob (F-statistic):</th> <td>2.43e-15</td>\n",
       "</tr>\n",
       "<tr>\n",
       "  <th>Time:</th>                 <td>18:01:06</td>     <th>  Log-Likelihood:    </th> <td> -18.023</td>\n",
       "</tr>\n",
       "<tr>\n",
       "  <th>No. Observations:</th>      <td>    20</td>      <th>  AIC:               </th> <td>   44.05</td>\n",
       "</tr>\n",
       "<tr>\n",
       "  <th>Df Residuals:</th>          <td>    16</td>      <th>  BIC:               </th> <td>   48.03</td>\n",
       "</tr>\n",
       "<tr>\n",
       "  <th>Df Model:</th>              <td>     3</td>      <th>                     </th>     <td> </td>   \n",
       "</tr>\n",
       "<tr>\n",
       "  <th>Covariance Type:</th>      <td>nonrobust</td>    <th>                     </th>     <td> </td>   \n",
       "</tr>\n",
       "</table>\n",
       "<table class=\"simpletable\">\n",
       "<tr>\n",
       "    <td></td>       <th>coef</th>     <th>std err</th>      <th>t</th>      <th>P>|t|</th>  <th>[0.025</th>    <th>0.975]</th>  \n",
       "</tr>\n",
       "<tr>\n",
       "  <th>const</th> <td>   11.1132</td> <td>    0.736</td> <td>   15.100</td> <td> 0.000</td> <td>    9.553</td> <td>   12.673</td>\n",
       "</tr>\n",
       "<tr>\n",
       "  <th>x1</th>    <td>    0.7362</td> <td>    0.166</td> <td>    4.424</td> <td> 0.000</td> <td>    0.383</td> <td>    1.089</td>\n",
       "</tr>\n",
       "<tr>\n",
       "  <th>x2</th>    <td>    5.0497</td> <td>    0.176</td> <td>   28.652</td> <td> 0.000</td> <td>    4.676</td> <td>    5.423</td>\n",
       "</tr>\n",
       "<tr>\n",
       "  <th>x3</th>    <td>    0.3345</td> <td>    0.103</td> <td>    3.253</td> <td> 0.005</td> <td>    0.117</td> <td>    0.553</td>\n",
       "</tr>\n",
       "</table>\n",
       "<table class=\"simpletable\">\n",
       "<tr>\n",
       "  <th>Omnibus:</th>       <td> 2.272</td> <th>  Durbin-Watson:     </th> <td>   1.606</td>\n",
       "</tr>\n",
       "<tr>\n",
       "  <th>Prob(Omnibus):</th> <td> 0.321</td> <th>  Jarque-Bera (JB):  </th> <td>   1.101</td>\n",
       "</tr>\n",
       "<tr>\n",
       "  <th>Skew:</th>          <td>-0.081</td> <th>  Prob(JB):          </th> <td>   0.577</td>\n",
       "</tr>\n",
       "<tr>\n",
       "  <th>Kurtosis:</th>      <td> 1.862</td> <th>  Cond. No.          </th> <td>    27.6</td>\n",
       "</tr>\n",
       "</table><br/><br/>Notes:<br/>[1] Standard Errors assume that the covariance matrix of the errors is correctly specified."
      ],
      "text/plain": [
       "<class 'statsmodels.iolib.summary.Summary'>\n",
       "\"\"\"\n",
       "                            OLS Regression Results                            \n",
       "==============================================================================\n",
       "Dep. Variable:                      y   R-squared:                       0.987\n",
       "Model:                            OLS   Adj. R-squared:                  0.985\n",
       "Method:                 Least Squares   F-statistic:                     410.6\n",
       "Date:                Thu, 17 Mar 2022   Prob (F-statistic):           2.43e-15\n",
       "Time:                        18:01:06   Log-Likelihood:                -18.023\n",
       "No. Observations:                  20   AIC:                             44.05\n",
       "Df Residuals:                      16   BIC:                             48.03\n",
       "Df Model:                           3                                         \n",
       "Covariance Type:            nonrobust                                         \n",
       "==============================================================================\n",
       "                 coef    std err          t      P>|t|      [0.025      0.975]\n",
       "------------------------------------------------------------------------------\n",
       "const         11.1132      0.736     15.100      0.000       9.553      12.673\n",
       "x1             0.7362      0.166      4.424      0.000       0.383       1.089\n",
       "x2             5.0497      0.176     28.652      0.000       4.676       5.423\n",
       "x3             0.3345      0.103      3.253      0.005       0.117       0.553\n",
       "==============================================================================\n",
       "Omnibus:                        2.272   Durbin-Watson:                   1.606\n",
       "Prob(Omnibus):                  0.321   Jarque-Bera (JB):                1.101\n",
       "Skew:                          -0.081   Prob(JB):                        0.577\n",
       "Kurtosis:                       1.862   Cond. No.                         27.6\n",
       "==============================================================================\n",
       "\n",
       "Notes:\n",
       "[1] Standard Errors assume that the covariance matrix of the errors is correctly specified.\n",
       "\"\"\""
      ]
     },
     "execution_count": 13,
     "metadata": {},
     "output_type": "execute_result"
    }
   ],
   "source": [
    "# adding intercept to the dataset  \n",
    "x = sm.add_constant(x)\n",
    "\n",
    "# fit the regression\n",
    "fit = sm.OLS(y,x).fit()\n",
    "fit.summary()"
   ]
  },
  {
   "cell_type": "markdown",
   "metadata": {},
   "source": [
    "### 2.3"
   ]
  },
  {
   "cell_type": "code",
   "execution_count": 14,
   "metadata": {},
   "outputs": [
    {
     "name": "stdout",
     "output_type": "stream",
     "text": [
      "The following Beta1 parameter has value 0.7362 and confidence intervals [0.3834675  1.08895941]\n",
      "The following Beta2 parameter has value 5.0497 and confidence intervals [4.67610995 5.42335824]\n",
      "The following Beta3 parameter has value 0.3345 and confidence intervals [0.11652823 0.55254751]\n"
     ]
    }
   ],
   "source": [
    "b_res = fit.params    # intercept + betas\n",
    "ci_s = fit.conf_int() # confidence intervals\n",
    "beta_ci = list(zip(b_res,ci_s))[1:]\n",
    "i = 0\n",
    "\n",
    "for beta, ci in beta_ci:\n",
    "    i += 1\n",
    "    print(f\"The following Beta{str(i)} parameter has value {round(beta,4)} and confidence intervals {ci}\")"
   ]
  },
  {
   "cell_type": "markdown",
   "metadata": {},
   "source": [
    "### 2.4 - Boostraping - Simulating a bootstrap with 1000 simulations"
   ]
  },
  {
   "cell_type": "markdown",
   "metadata": {},
   "source": [
    "A $bootstrap$ dataset is a dataset which we generate by resampling the original dataset with replacement. Therefore, as per the definition, we have generated $x_{bootstrap_{dataset}}$, $y_{bootstrap_{dataset}}$ which contain 1000 different datasets generated from using $bootstrap$ method: sampling with replacement for $B$ simulations"
   ]
  },
  {
   "cell_type": "code",
   "execution_count": 15,
   "metadata": {},
   "outputs": [],
   "source": [
    "def bootstrap(B, N, y, x):\n",
    "\n",
    "    '''\n",
    "    This function returns a \"B\" bootstrapped dataset for x and y using along with the beta values for the bootstrapped dataset\n",
    "    \n",
    "    Parameters\n",
    "    ----------\n",
    "    B: (int) number of simulations \n",
    "    N: sample size for the original dataset\n",
    "    y: dependent values\n",
    "    x: independet values\n",
    "\n",
    "    Returns\n",
    "    --------\n",
    "    global:\n",
    "        x_bootstrap_dataset: 1000 bootstrapped x datasets \n",
    "        y_bootstrap_dataset: 1000 bootstrapped y datasets \n",
    "\n",
    "    bb_bootstrapped: intercept + beta coefficients for bootstrapped values\n",
    "    '''\n",
    "\n",
    "    # creating lists to store B = 1000 bootstrap datasets\n",
    "    \n",
    "    global x_bootstrap_dataset\n",
    "    x_bootstrap_dataset = []\n",
    "    \n",
    "    global y_bootstrap_dataset\n",
    "    y_bootstrap_dataset = []\n",
    "\n",
    "    # creating lists to store the bootstrap betas \n",
    "    bb_bootstrapped = [[] for i in range(x.shape[1])]      \n",
    "\n",
    "\n",
    "\n",
    "    # repeat experiment B = 1000 times to generate B = 1000 bootstrap datasets\n",
    "\n",
    "    for b in range(B):    \n",
    "\n",
    "        # choose a random index \n",
    "        # use x.shape[0] to get random value from rows instead of columns which can mess up beta estimations\n",
    "        random_index = np.random.choice(x.shape[0], size=N)  \n",
    "        \n",
    "        # selecting random indexes from the given dataset\n",
    "        y_boot   = y[random_index]    \n",
    "        x_boot   = x[random_index]\n",
    "        \n",
    "        # add each randomly indexed values to the bootstrapped lists defined above\n",
    "        \n",
    "        # 2.4 - now we will add each element to the bootstraped list above which after B = 1000 iterations will\n",
    "        # include 1000 bootstrapped datasets \n",
    "\n",
    "        x_bootstrap_dataset.append(x_boot)\n",
    "        y_bootstrap_dataset.append(y_boot)\n",
    "\n",
    "        # 2.5 below\n",
    "\n",
    "        # fixing y_boot so it has shape [N,1] instead of [N,] in order to allow for dot product.\n",
    "         \n",
    "        y_boot = y_boot[:,None]  # we only add for y_boot since x_boot has shape [20,4] whereas y_boot has [1,]\n",
    "        \n",
    "        # iterate for each column vector \n",
    "        for i in range(x_boot.shape[1]):\n",
    "            b = np.dot(np.linalg.inv(np.dot(x_boot.T,x_boot)),np.dot(x_boot.T,y_boot))[i][0]\n",
    "            bb_bootstrapped[i].append(b)\n",
    "\n",
    "    return(bb_bootstrapped)\n",
    "    "
   ]
  },
  {
   "cell_type": "code",
   "execution_count": 16,
   "metadata": {},
   "outputs": [
    {
     "name": "stdout",
     "output_type": "stream",
     "text": [
      "We have generated 1000 bootstrap samples. Each matrix ''x_bootstrap_dataset'' contains 20 observations!\n",
      "\n"
     ]
    }
   ],
   "source": [
    "# Below are the 1000 simulated datasets\n",
    "B = 1000\n",
    "bootstrap(B, N, y, x)\n",
    "x_bootstrap_dataset;\n",
    "y_bootstrap_dataset;\n",
    "print(f\"We have generated {len(x_bootstrap_dataset)} bootstrap samples. Each matrix ''x_bootstrap_dataset'' contains {len(x_bootstrap_dataset[0])} observations!\")\n",
    "print()"
   ]
  },
  {
   "cell_type": "markdown",
   "metadata": {},
   "source": [
    "### 2.5 "
   ]
  },
  {
   "cell_type": "markdown",
   "metadata": {},
   "source": [
    "Below are $\\beta s$ generated using bootstrap method. "
   ]
  },
  {
   "cell_type": "code",
   "execution_count": 17,
   "metadata": {},
   "outputs": [],
   "source": [
    "alpha, beta1, beta2, beta3 = bootstrap(B, 20, y, x)"
   ]
  },
  {
   "cell_type": "markdown",
   "metadata": {},
   "source": [
    "### 2.6 - Plot Histograms of betas"
   ]
  },
  {
   "cell_type": "code",
   "execution_count": 18,
   "metadata": {},
   "outputs": [],
   "source": [
    "def plot_betas(beta_boot, number):\n",
    "\n",
    "    '''\n",
    "    This function takes the Beta values and returns a histogram of the Beta dsitribution, showing the mean and the median of the Beta distribution\n",
    "\n",
    "    Parameters\n",
    "    ----------\n",
    "    beta_boot: Beta values\n",
    "    number: string of number to identify which Beta is represented by the dsitribution\n",
    "\n",
    "    Returns: \n",
    "\n",
    "    A histogram showing the distribution of the betas together with the meand and the median\n",
    "    '''\n",
    "    number = str(number)\n",
    "\n",
    "    median = np.median(beta_boot)\n",
    "    mean = np.mean(beta_boot)\n",
    "    \n",
    "    plt.subplots(1, figsize=(6,4))\n",
    "    sns.histplot(beta_boot, color = 'hotpink', edgecolor ='aqua') ; plt.title(r'$\\beta_{0}(bootstrapped)$'.format(number))\n",
    "    plt.axvline(mean, color = 'yellow', label = 'mean of the distribution')\n",
    "    plt.axvline(median, color='indigo', label = 'median of the distribution')\n",
    "\n",
    "    plt.legend()\n",
    "    plt.show()"
   ]
  },
  {
   "cell_type": "code",
   "execution_count": 19,
   "metadata": {},
   "outputs": [
    {
     "data": {
      "image/png": "[encoded data removed]",
      "text/plain": [
       "<Figure size 432x288 with 1 Axes>"
      ]
     },
     "metadata": {
      "needs_background": "light"
     },
     "output_type": "display_data"
    },
    {
     "data": {
      "image/png": "[encoded data removed]",
      "text/plain": [
       "<Figure size 432x288 with 1 Axes>"
      ]
     },
     "metadata": {
      "needs_background": "light"
     },
     "output_type": "display_data"
    },
    {
     "data": {
      "image/png": "[encoded data removed]",
      "text/plain": [
       "<Figure size 432x288 with 1 Axes>"
      ]
     },
     "metadata": {
      "needs_background": "light"
     },
     "output_type": "display_data"
    }
   ],
   "source": [
    "# Plotting beta for beta1, beta2 and beta3\n",
    "plot_betas(beta1, 1)\n",
    "plot_betas(beta2, 2)\n",
    "plot_betas(beta3, 3)"
   ]
  },
  {
   "cell_type": "markdown",
   "metadata": {},
   "source": [
    "### 2.7"
   ]
  },
  {
   "cell_type": "code",
   "execution_count": 20,
   "metadata": {},
   "outputs": [
    {
     "name": "stdout",
     "output_type": "stream",
     "text": [
      "We have generated a dataset 'x' with 1000 observations\n"
     ]
    }
   ],
   "source": [
    "# redoing 1.1 for N = 1000 observations\n",
    "N = 1000\n",
    "x_1000 = generate_x(N)\n",
    "print(f\"We have generated a dataset 'x' with {x_1000.shape[0]} observations\")"
   ]
  },
  {
   "cell_type": "markdown",
   "metadata": {},
   "source": [
    "### 2.8"
   ]
  },
  {
   "cell_type": "markdown",
   "metadata": {},
   "source": [
    "2.8 - 2.4 & 2.5"
   ]
  },
  {
   "cell_type": "markdown",
   "metadata": {},
   "source": [
    "In order to simulate a 1000 bootstrap dataset with $N = 1000$ observations, we first need to slice $x_{1000}$ in order to simulate $y_{true}$ for when x has 1000 observations since the $y$ we already have contains only 20 observations. Since the $y_{true}$ only includes $x_1$ and $x_2$, we will again use $slice_x()$ to drop column for $x_3$ and add intercept to get the true values for $y_{true}$ which in this case is $y_{1000}$."
   ]
  },
  {
   "cell_type": "code",
   "execution_count": 21,
   "metadata": {},
   "outputs": [],
   "source": [
    "# droping x_3 and adding intercept to get true values for y_1000\n",
    "x_1000_true = slice_x(x_1000)\n",
    "\n",
    "# adding intercept to original dataset to run bootstrap afterwards\n",
    "x_1000 = sm.add_constant(x_1000)\n",
    "\n",
    "# get true values for y_1000 \n",
    "y_1000 = generate_y(x_1000_true, N, alpha_true, beta1_true, beta2_true)"
   ]
  },
  {
   "cell_type": "code",
   "execution_count": 22,
   "metadata": {},
   "outputs": [
    {
     "name": "stdout",
     "output_type": "stream",
     "text": [
      "We have generated 1000 bootstrap samples. Each matrix ''x_bootstrap_dataset'' contains 1000 observations!\n"
     ]
    }
   ],
   "source": [
    "# 2.5 repeated betas are now these that we get from the line below\n",
    "alpha_1000, beta1_1000, beta2_1000, beta3_1000 = bootstrap(B, N, y_1000, x_1000)\n",
    "\n",
    "# 2.4 repeated bootstrap datasets are now included here and the print() provides more details\n",
    "x_bootstrap_dataset;\n",
    "y_bootstrap_dataset;\n",
    "\n",
    "print(f\"We have generated {len(x_bootstrap_dataset)} bootstrap samples. Each matrix ''x_bootstrap_dataset'' contains {len(x_bootstrap_dataset[0])} observations!\")\n"
   ]
  },
  {
   "cell_type": "markdown",
   "metadata": {},
   "source": [
    "You can open x_bootstrap_dataset for checking but its output was too large to include here since 1000 x 1000 values"
   ]
  },
  {
   "cell_type": "markdown",
   "metadata": {},
   "source": [
    "2.8 - 2.6"
   ]
  },
  {
   "cell_type": "markdown",
   "metadata": {},
   "source": [
    "Below are the $\\beta$ distributions for the $bootstrapped$ samples when $N = 1000$"
   ]
  },
  {
   "cell_type": "code",
   "execution_count": 23,
   "metadata": {},
   "outputs": [
    {
     "data": {
      "image/png": "[encoded data removed]",
      "text/plain": [
       "<Figure size 432x288 with 1 Axes>"
      ]
     },
     "metadata": {
      "needs_background": "light"
     },
     "output_type": "display_data"
    },
    {
     "data": {
      "image/png": "[encoded data removed]",
      "text/plain": [
       "<Figure size 432x288 with 1 Axes>"
      ]
     },
     "metadata": {
      "needs_background": "light"
     },
     "output_type": "display_data"
    },
    {
     "data": {
      "image/png": "[encoded data removed]",
      "text/plain": [
       "<Figure size 432x288 with 1 Axes>"
      ]
     },
     "metadata": {
      "needs_background": "light"
     },
     "output_type": "display_data"
    }
   ],
   "source": [
    "plot_betas(beta1_1000, 1)\n",
    "plot_betas(beta2_1000, 2)\n",
    "plot_betas(beta3_1000, 3)"
   ]
  },
  {
   "cell_type": "markdown",
   "metadata": {},
   "source": [
    "### Comment briefly on the difference between histograms you obtain now and on 2.6"
   ]
  },
  {
   "cell_type": "markdown",
   "metadata": {},
   "source": [
    "The difference in $\\beta_s$ from 2.6 and 2.8-2.6 is that medians for $\\beta_1$ and $\\beta_2$ are closer to the true when N=1000 values and this is because of the law of large numbers. There is also quite a big difference between median of $\\beta_3$ since the true model is given by just beta_1 and $\\beta_2$, when the number of observations is much larger, the $\\beta_3$ will shrink while $\\beta_1$ and $\\beta_2$ approach their true values."
   ]
  },
  {
   "cell_type": "markdown",
   "metadata": {},
   "source": [
    "### 2.9"
   ]
  },
  {
   "cell_type": "markdown",
   "metadata": {},
   "source": [
    "In the following we will drop the current column $x_3$ and add a new column as a function os the first two columns. To do this we will use $x$ from 1.1 and the function slice_x(). Afterwards we will add a new column $x_3$ as a function of the first two columns."
   ]
  },
  {
   "cell_type": "code",
   "execution_count": 24,
   "metadata": {},
   "outputs": [],
   "source": [
    "x_mc = slice_x(x_org)"
   ]
  },
  {
   "cell_type": "code",
   "execution_count": 25,
   "metadata": {},
   "outputs": [],
   "source": [
    "# adding third col as a a function of x_1 and x_2 but now we use [1] and [2] since index [0] contains intercept\n",
    "new_x = (x_mc.T[1] + x_mc.T[2])/2\n",
    "\n",
    "# create a vector with shape [N,1]\n",
    "new_x = new_x[:,None]\n",
    "\n",
    "# adding the column to the dataset\n",
    "newest_x = np.hstack((x_mc, new_x)) # adds a new column to x that is a combo of two previous ones\n",
    "reg_x = sm.add_constant(newest_x) "
   ]
  },
  {
   "cell_type": "code",
   "execution_count": 26,
   "metadata": {},
   "outputs": [
    {
     "data": {
      "text/html": [
       "<table class=\"simpletable\">\n",
       "<caption>OLS Regression Results</caption>\n",
       "<tr>\n",
       "  <th>Dep. Variable:</th>            <td>y</td>        <th>  R-squared:         </th> <td>   0.979</td>\n",
       "</tr>\n",
       "<tr>\n",
       "  <th>Model:</th>                   <td>OLS</td>       <th>  Adj. R-squared:    </th> <td>   0.976</td>\n",
       "</tr>\n",
       "<tr>\n",
       "  <th>Method:</th>             <td>Least Squares</td>  <th>  F-statistic:       </th> <td>   390.5</td>\n",
       "</tr>\n",
       "<tr>\n",
       "  <th>Date:</th>             <td>Thu, 17 Mar 2022</td> <th>  Prob (F-statistic):</th> <td>6.20e-15</td>\n",
       "</tr>\n",
       "<tr>\n",
       "  <th>Time:</th>                 <td>18:01:14</td>     <th>  Log-Likelihood:    </th> <td> -23.099</td>\n",
       "</tr>\n",
       "<tr>\n",
       "  <th>No. Observations:</th>      <td>    20</td>      <th>  AIC:               </th> <td>   52.20</td>\n",
       "</tr>\n",
       "<tr>\n",
       "  <th>Df Residuals:</th>          <td>    17</td>      <th>  BIC:               </th> <td>   55.19</td>\n",
       "</tr>\n",
       "<tr>\n",
       "  <th>Df Model:</th>              <td>     2</td>      <th>                     </th>     <td> </td>   \n",
       "</tr>\n",
       "<tr>\n",
       "  <th>Covariance Type:</th>      <td>nonrobust</td>    <th>                     </th>     <td> </td>   \n",
       "</tr>\n",
       "</table>\n",
       "<table class=\"simpletable\">\n",
       "<tr>\n",
       "    <td></td>       <th>coef</th>     <th>std err</th>      <th>t</th>      <th>P>|t|</th>  <th>[0.025</th>    <th>0.975]</th>  \n",
       "</tr>\n",
       "<tr>\n",
       "  <th>const</th> <td>   11.4006</td> <td>    0.914</td> <td>   12.478</td> <td> 0.000</td> <td>    9.473</td> <td>   13.328</td>\n",
       "</tr>\n",
       "<tr>\n",
       "  <th>x1</th>    <td>   -0.2526</td> <td>    0.192</td> <td>   -1.313</td> <td> 0.207</td> <td>   -0.658</td> <td>    0.153</td>\n",
       "</tr>\n",
       "<tr>\n",
       "  <th>x2</th>    <td>    4.1368</td> <td>    0.201</td> <td>   20.628</td> <td> 0.000</td> <td>    3.714</td> <td>    4.560</td>\n",
       "</tr>\n",
       "<tr>\n",
       "  <th>x3</th>    <td>    1.9421</td> <td>    0.075</td> <td>   25.865</td> <td> 0.000</td> <td>    1.784</td> <td>    2.101</td>\n",
       "</tr>\n",
       "</table>\n",
       "<table class=\"simpletable\">\n",
       "<tr>\n",
       "  <th>Omnibus:</th>       <td> 9.839</td> <th>  Durbin-Watson:     </th> <td>   1.478</td>\n",
       "</tr>\n",
       "<tr>\n",
       "  <th>Prob(Omnibus):</th> <td> 0.007</td> <th>  Jarque-Bera (JB):  </th> <td>   7.213</td>\n",
       "</tr>\n",
       "<tr>\n",
       "  <th>Skew:</th>          <td> 1.206</td> <th>  Prob(JB):          </th> <td>  0.0271</td>\n",
       "</tr>\n",
       "<tr>\n",
       "  <th>Kurtosis:</th>      <td> 4.685</td> <th>  Cond. No.          </th> <td>5.60e+16</td>\n",
       "</tr>\n",
       "</table><br/><br/>Notes:<br/>[1] Standard Errors assume that the covariance matrix of the errors is correctly specified.<br/>[2] The smallest eigenvalue is 2.61e-31. This might indicate that there are<br/>strong multicollinearity problems or that the design matrix is singular."
      ],
      "text/plain": [
       "<class 'statsmodels.iolib.summary.Summary'>\n",
       "\"\"\"\n",
       "                            OLS Regression Results                            \n",
       "==============================================================================\n",
       "Dep. Variable:                      y   R-squared:                       0.979\n",
       "Model:                            OLS   Adj. R-squared:                  0.976\n",
       "Method:                 Least Squares   F-statistic:                     390.5\n",
       "Date:                Thu, 17 Mar 2022   Prob (F-statistic):           6.20e-15\n",
       "Time:                        18:01:14   Log-Likelihood:                -23.099\n",
       "No. Observations:                  20   AIC:                             52.20\n",
       "Df Residuals:                      17   BIC:                             55.19\n",
       "Df Model:                           2                                         \n",
       "Covariance Type:            nonrobust                                         \n",
       "==============================================================================\n",
       "                 coef    std err          t      P>|t|      [0.025      0.975]\n",
       "------------------------------------------------------------------------------\n",
       "const         11.4006      0.914     12.478      0.000       9.473      13.328\n",
       "x1            -0.2526      0.192     -1.313      0.207      -0.658       0.153\n",
       "x2             4.1368      0.201     20.628      0.000       3.714       4.560\n",
       "x3             1.9421      0.075     25.865      0.000       1.784       2.101\n",
       "==============================================================================\n",
       "Omnibus:                        9.839   Durbin-Watson:                   1.478\n",
       "Prob(Omnibus):                  0.007   Jarque-Bera (JB):                7.213\n",
       "Skew:                           1.206   Prob(JB):                       0.0271\n",
       "Kurtosis:                       4.685   Cond. No.                     5.60e+16\n",
       "==============================================================================\n",
       "\n",
       "Notes:\n",
       "[1] Standard Errors assume that the covariance matrix of the errors is correctly specified.\n",
       "[2] The smallest eigenvalue is 2.61e-31. This might indicate that there are\n",
       "strong multicollinearity problems or that the design matrix is singular.\n",
       "\"\"\""
      ]
     },
     "execution_count": 26,
     "metadata": {},
     "output_type": "execute_result"
    }
   ],
   "source": [
    "sm.OLS(y, reg_x).fit().summary()"
   ]
  },
  {
   "cell_type": "markdown",
   "metadata": {},
   "source": [
    "<br>"
   ]
  },
  {
   "cell_type": "markdown",
   "metadata": {},
   "source": [
    "We notice that we get 2 warnings in this case. The 2nd warning highlights <i> strong <b> multicollinearity </b> problems </i>.\n",
    "This is because our reg_x is column-rank efficient, in other words: one column $x_3$ is a linear combination of other columns ($x_1,x_2$).\n",
    "<br>\n",
    "Note: in our case only one column is a linear combination of others, but by definition, there could be more than one. "
   ]
  },
  {
   "cell_type": "markdown",
   "metadata": {},
   "source": [
    "We are getting a huge p-value for $x_1$ which is insignificant at 5%, 10% and 20% level. "
   ]
  },
  {
   "cell_type": "markdown",
   "metadata": {},
   "source": [
    "# 2.10"
   ]
  },
  {
   "cell_type": "markdown",
   "metadata": {},
   "source": [
    "In order to deal with multicollinearity we have a few alternatives: <br>\n",
    "1. Delete variable/s <br>\n",
    "-> It is always very sensitive what variable we want to delete. In this case it could make sense to drop $x_1$ due to the high p_value and it would also remove the multicollinearity problem. But since we know that $x_3$ is a linear combination of others, it would be smartest to drop that.<br><br>\n",
    "2. Make pair plots to detect any linearity\n",
    "3. Regularization"
   ]
  },
  {
   "cell_type": "code",
   "execution_count": 27,
   "metadata": {},
   "outputs": [
    {
     "data": {
      "image/png": "[encoded data removed]",
      "text/plain": [
       "<Figure size 504x504 with 14 Axes>"
      ]
     },
     "metadata": {},
     "output_type": "display_data"
    }
   ],
   "source": [
    "# making a pairplot to see if there is any perfect correlation\n",
    "interc = reg_x.T[0]\n",
    "x_1 = reg_x.T[1]\n",
    "x_2 = reg_x.T[2]\n",
    "x_3 = reg_x.T[3]\n",
    "\n",
    "pairplot = pd.DataFrame({\"Intercept\": interc, \"x_1\": x_1, \"x_2\": x_2, \"x_3\": x_3})\n",
    "\n",
    "sns.set_theme(style = \"ticks\")\n",
    "g = sns.pairplot(pairplot, corner = True)\n",
    "g.fig.set_size_inches(7,7)"
   ]
  },
  {
   "cell_type": "markdown",
   "metadata": {},
   "source": [
    "We see that both relationships $x_3$ has with $x_1$ and $x_2$ is falling into a straight line. Even though it is not 100% conclusive, it gives us a lot of insight to visually see such a relationship."
   ]
  },
  {
   "cell_type": "markdown",
   "metadata": {},
   "source": [
    "What we could do to solve this is use regularization methods where we would minimize the penalized square error. Two very famous methods to do this are Ridge and Lasso or both at once. This methods use a penalty term $\\lambda C$($\\Beta$). Since one of the main issues with multicollinearity is that variance is usually very high and $X^TX$ in non-invertible. Therefore by adding a penalty factor where $\\lambda$ > 0 will lead to reduced variance and make $X^TX$ invertible"
   ]
  },
  {
   "cell_type": "markdown",
   "metadata": {},
   "source": [
    "# 3 - Timeseries and Model Selection"
   ]
  },
  {
   "cell_type": "code",
   "execution_count": 28,
   "metadata": {},
   "outputs": [],
   "source": [
    "# loading the dataset \n",
    "nile = sm.datasets.get_rdataset(\"Nile\").data\n",
    "\n",
    "# take a short look at the data\n",
    "nile.head();"
   ]
  },
  {
   "cell_type": "markdown",
   "metadata": {},
   "source": [
    "### 3.1"
   ]
  },
  {
   "cell_type": "markdown",
   "metadata": {},
   "source": [
    "We see that the annual flow is represented by $value$ hence we use that as dependent variable to plot the data"
   ]
  },
  {
   "cell_type": "code",
   "execution_count": 29,
   "metadata": {},
   "outputs": [
    {
     "data": {
      "text/plain": [
       "Text(0, 0.5, 'Annual Flow')"
      ]
     },
     "execution_count": 29,
     "metadata": {},
     "output_type": "execute_result"
    },
    {
     "data": {
      "image/png": "[encoded data removed]",
      "text/plain": [
       "<Figure size 1008x360 with 1 Axes>"
      ]
     },
     "metadata": {},
     "output_type": "display_data"
    }
   ],
   "source": [
    "# plotting the annual flow\n",
    "x_data = nile[\"time\"]\n",
    "y_data = nile[\"value\"]\n",
    "fig, ax  = plt.subplots(figsize=(14,5))\n",
    "ax.plot(x_data, y_data)\n",
    "ax.set_xlabel(\"Year\")\n",
    "ax.set_ylabel(\"Annual Flow\")\n"
   ]
  },
  {
   "cell_type": "markdown",
   "metadata": {},
   "source": [
    "### 3.2 - Plotting ACF & PACF"
   ]
  },
  {
   "cell_type": "code",
   "execution_count": 30,
   "metadata": {},
   "outputs": [
    {
     "data": {
      "image/png": "[encoded data removed]",
      "text/plain": [
       "<Figure size 1008x360 with 2 Axes>"
      ]
     },
     "metadata": {},
     "output_type": "display_data"
    }
   ],
   "source": [
    "# define no. of lags\n",
    "lags = 30\n",
    "\n",
    "fig, axs = plt.subplots(1,2,figsize=(14,5))\n",
    "plot_acf(y_data, lags = lags, ax=axs[0])\n",
    "plot_pacf(y_data, lags = lags, ax=axs[1])\n",
    "plt.show()"
   ]
  },
  {
   "cell_type": "markdown",
   "metadata": {},
   "source": [
    "### 3.3"
   ]
  },
  {
   "cell_type": "markdown",
   "metadata": {},
   "source": [
    "By looking at 3.1, we see that there is a lot of random movements in the annual flow suggesting that it is unpredictable. Additionally, we the fact that it is unpredictable is also seen by looking at $PACF$ which suggests shows significant lags only for lag 1, indicating that we have an AutoRegressive process of order 1. Therefore we can say that the annual flow of the river is relatively unpredictable. "
   ]
  },
  {
   "cell_type": "markdown",
   "metadata": {},
   "source": [
    "### 3.4"
   ]
  },
  {
   "cell_type": "markdown",
   "metadata": {},
   "source": [
    "As instructed in the task by simply looking diagrams from 3.2, we choose the model with $p = 1$ $lag$. <br> The reason is that $PACF$ cuts off after $lag_1$. However, we will still test the model performance with up to 3 lags since that is the number of significant lags in $ACF$ graph"
   ]
  },
  {
   "cell_type": "markdown",
   "metadata": {},
   "source": [
    "### 3.5"
   ]
  },
  {
   "cell_type": "code",
   "execution_count": 31,
   "metadata": {},
   "outputs": [],
   "source": [
    "def orders(n):\n",
    "    '''\n",
    "    This function takes an integer parameters n, and returns a list of tuples specifying \"n\" number of lags\n",
    "    \n",
    "    Parameters\n",
    "    ----------\n",
    "    n: number of lags we want to include \n",
    "\n",
    "    Returns:\n",
    "    List of tuples containing n lags\n",
    "\n",
    "    '''\n",
    "    # define list to store tuples\n",
    "    orders = []\n",
    "    \n",
    "    for i in range(n):\n",
    "        order = (i+1, 0, 0)\n",
    "        orders.append(order)\n",
    "        \n",
    "    return(orders)"
   ]
  },
  {
   "cell_type": "code",
   "execution_count": 32,
   "metadata": {},
   "outputs": [
    {
     "name": "stdout",
     "output_type": "stream",
     "text": [
      "Model with 1 lag has rmse 175.093\n",
      "Model with 2 lag has rmse 198.205\n",
      "Model with 3 lag has rmse 195.567\n"
     ]
    }
   ],
   "source": [
    "# As mentioned above, we will test for 3 lags \n",
    "# splitting y_data for training and testing purposes\n",
    "train = 95\n",
    "y_te = y_data.T[train:] # last 5 years for testing\n",
    "y_tr = y_data.T[:train]\n",
    "\n",
    "orders_three = orders(3)\n",
    "\n",
    "# loop through the 3 models with different lags\n",
    "for i,order in enumerate(orders_three):   \n",
    "  # define and fit AR model\n",
    "    model = ARIMA(y_tr, order=order).fit()\n",
    "\n",
    "   # Forecast\n",
    "    horizon = y_te.shape[0]\n",
    "    y_hat = model.forecast(horizon)\n",
    "  \n",
    "   # get the metrics\n",
    "    mse = np.mean((y_hat - y_te)**2)\n",
    "    rmse = np.mean((y_hat - y_te)**2)**0.5\n",
    "\n",
    "    print(f\"Model with {i+1} lag has rmse {round(rmse,3)}\")"
   ]
  },
  {
   "cell_type": "markdown",
   "metadata": {},
   "source": [
    "As the PACF graph indicated as well, model with 1 lag performs the best."
   ]
  },
  {
   "cell_type": "markdown",
   "metadata": {},
   "source": [
    "### 3.6 - Test for AR proccesses of up to order 5 and create a table"
   ]
  },
  {
   "cell_type": "code",
   "execution_count": 33,
   "metadata": {},
   "outputs": [],
   "source": [
    "# create lists to store the metrics\n",
    "store_rmse = []\n",
    "store_aic = []\n",
    "\n",
    "# define number of lags to loop through\n",
    "orders_five = orders(5)\n",
    "\n",
    "# loop through the 5 diff models\n",
    "for i, order in enumerate(orders_five):\n",
    "  # define and fit AR model\n",
    "  model = ARIMA(y_tr, order=order).fit()\n",
    "\n",
    "  # Forecast\n",
    "  horizon = y_te.shape[0]\n",
    "  y_hat = model.forecast(horizon)\n",
    "  \n",
    "  # get the metrics\n",
    "  rmse = np.mean((y_hat - y_te)**2) ** 0.5\n",
    "  aic = model.aic\n",
    "  # round up to 3\n",
    "  rmse, aic = round(rmse, 3), round(aic, 3)\n",
    "  \n",
    "  # store the metrics  \n",
    "  store_aic.append(aic)\n",
    "  store_rmse.append(rmse)"
   ]
  },
  {
   "cell_type": "code",
   "execution_count": 34,
   "metadata": {},
   "outputs": [
    {
     "data": {
      "text/html": [
       "<div>\n",
       "<style scoped>\n",
       "    .dataframe tbody tr th:only-of-type {\n",
       "        vertical-align: middle;\n",
       "    }\n",
       "\n",
       "    .dataframe tbody tr th {\n",
       "        vertical-align: top;\n",
       "    }\n",
       "\n",
       "    .dataframe thead th {\n",
       "        text-align: right;\n",
       "    }\n",
       "</style>\n",
       "<table border=\"1\" class=\"dataframe\">\n",
       "  <thead>\n",
       "    <tr style=\"text-align: right;\">\n",
       "      <th></th>\n",
       "      <th>Model</th>\n",
       "      <th>rmse</th>\n",
       "      <th>AIC</th>\n",
       "    </tr>\n",
       "  </thead>\n",
       "  <tbody>\n",
       "    <tr>\n",
       "      <th></th>\n",
       "      <td>AR(1)</td>\n",
       "      <td>175.093</td>\n",
       "      <td>1222.392</td>\n",
       "    </tr>\n",
       "    <tr>\n",
       "      <th></th>\n",
       "      <td>AR(2)</td>\n",
       "      <td>198.205</td>\n",
       "      <td>1220.108</td>\n",
       "    </tr>\n",
       "    <tr>\n",
       "      <th></th>\n",
       "      <td>AR(3)</td>\n",
       "      <td>195.567</td>\n",
       "      <td>1221.159</td>\n",
       "    </tr>\n",
       "    <tr>\n",
       "      <th></th>\n",
       "      <td>AR(4)</td>\n",
       "      <td>201.158</td>\n",
       "      <td>1222.975</td>\n",
       "    </tr>\n",
       "    <tr>\n",
       "      <th></th>\n",
       "      <td>AR(5)</td>\n",
       "      <td>207.668</td>\n",
       "      <td>1223.778</td>\n",
       "    </tr>\n",
       "  </tbody>\n",
       "</table>\n",
       "</div>"
      ],
      "text/plain": [
       "  Model     rmse       AIC\n",
       "  AR(1)  175.093  1222.392\n",
       "  AR(2)  198.205  1220.108\n",
       "  AR(3)  195.567  1221.159\n",
       "  AR(4)  201.158  1222.975\n",
       "  AR(5)  207.668  1223.778"
      ]
     },
     "execution_count": 34,
     "metadata": {},
     "output_type": "execute_result"
    }
   ],
   "source": [
    "# creating a dataframe to present the results in a table\n",
    "AR = []\n",
    "for i, lago in enumerate(orders_five):\n",
    "\n",
    "    ai = \"AR\" + \"(\" + str(i+1) + \")\"\n",
    "\n",
    "    AR.append(ai)\n",
    "\n",
    "table = pd.DataFrame({\"Model\": AR, \"rmse\": store_rmse, \"AIC\": store_aic}, index = None)\n",
    "table.index = [''] * len(table)\n",
    "table"
   ]
  },
  {
   "cell_type": "markdown",
   "metadata": {},
   "source": [
    "### 3.7 - Choosing a winner based on results"
   ]
  },
  {
   "cell_type": "markdown",
   "metadata": {},
   "source": [
    "We want to choose the model with the lowest $rmse$ or $AIC$, therefore we will select the model which includes the lowest score."
   ]
  },
  {
   "cell_type": "code",
   "execution_count": 72,
   "metadata": {},
   "outputs": [
    {
     "name": "stdout",
     "output_type": "stream",
     "text": [
      "The winner model according to rmse is AR(1) with rmse: 175.093\n",
      "The winner model according to AIC is AR(2) with AIC: 1220.108\n"
     ]
    }
   ],
   "source": [
    "# selecting winner model with lowest score\n",
    "\n",
    "winner_rmse = table[table[\"rmse\"] == min(table[\"rmse\"])]\n",
    "winner_aic = table[table[\"AIC\"] == min(table[\"AIC\"])]\n",
    "print(\"The winner model according to rmse is {0} with rmse: {1}\".format(winner_rmse.values[0][0], winner_rmse.values[0][1]))\n",
    "print(\"The winner model according to AIC is {0} with AIC: {1}\".format(winner_aic.values[0][0], winner_aic.values[0][2]))"
   ]
  },
  {
   "cell_type": "markdown",
   "metadata": {},
   "source": [
    "# 4 -  Classification, K-fold Cross-Validation and PCA"
   ]
  },
  {
   "cell_type": "markdown",
   "metadata": {},
   "source": [
    "In this task we have worked with logistic regression since we have a binary response in the target column."
   ]
  },
  {
   "cell_type": "code",
   "execution_count": 35,
   "metadata": {},
   "outputs": [],
   "source": [
    "# read the data\n",
    "sant = pd.read_csv(\"santander_dataset.csv\")\n",
    "\n",
    "# Look at the data breifly to identify the binary variable\n",
    "sant.head();"
   ]
  },
  {
   "cell_type": "code",
   "execution_count": 36,
   "metadata": {},
   "outputs": [],
   "source": [
    "y_log = sant[\"target\"]  # binary response\n",
    "\n",
    "# getting the dataset with only independent variables\n",
    "x_log = sant[sant.columns.drop(['ID_code', 'target'])]\n",
    "\n",
    "# adding an intercept as suggested in the instructions\n",
    "x_logc = sm.add_constant(x_log)\n",
    "\n",
    "# making sure intercept is added\n",
    "x_logc.shape;"
   ]
  },
  {
   "cell_type": "markdown",
   "metadata": {},
   "source": [
    "### 4.1"
   ]
  },
  {
   "cell_type": "code",
   "execution_count": 37,
   "metadata": {},
   "outputs": [],
   "source": [
    "# splitting data 70 training and 30 testing\n",
    "sss = StratifiedShuffleSplit(n_splits=1, test_size=0.3, random_state=1234)\n",
    "\n",
    "# alternatively we could use: from sklearn.model.selection import train_test_split\n",
    "\n",
    "for train_index, test_index in sss.split(x_logc, y_log):\n",
    "    x_tr, x_te = x_logc.iloc[train_index], x_logc.iloc[test_index]\n",
    "    y_tr, y_te = y_log.iloc[train_index], y_log.iloc[test_index]"
   ]
  },
  {
   "cell_type": "code",
   "execution_count": 38,
   "metadata": {},
   "outputs": [
    {
     "name": "stdout",
     "output_type": "stream",
     "text": [
      "ROC_AUC_score from sm.Logit: 0.852970132479844\n"
     ]
    }
   ],
   "source": [
    "# fitting a logistic regression\n",
    "log_regression = sm.Logit(y_tr, x_tr)\n",
    "fit_log = log_regression.fit(disp=0)\n",
    "\n",
    "# getting false positive, true positive rate and thresholds\n",
    "fpr,tpr, threshold = metrics.roc_curve(y_te,fit_log.predict(x_te))\n",
    "\n",
    "mean_fpr = np.linspace(0,1,100)\n",
    "roc_auc = metrics.auc(fpr, tpr)\n",
    "\n",
    "print(f'ROC_AUC_score from sm.Logit: {roc_auc}')"
   ]
  },
  {
   "cell_type": "code",
   "execution_count": 39,
   "metadata": {},
   "outputs": [
    {
     "data": {
      "image/png": "[encoded data removed]",
      "text/plain": [
       "<Figure size 504x504 with 1 Axes>"
      ]
     },
     "metadata": {},
     "output_type": "display_data"
    }
   ],
   "source": [
    "# plotting the AUC curve\n",
    "plt.subplots(1, figsize=(7,7))\n",
    "plt.title('ROC - AUC')\n",
    "plt.plot(fpr, tpr, label = 'AUC = %0.2f' % roc_auc)\n",
    "plt.plot([0, 1], ls=\"--\", label=\"Random Classifier\")\n",
    "plt.plot([0, 0], [1, 0] , c=\".7\"), plt.plot([1, 1] , c=\".7\")\n",
    "plt.ylabel('True Positive Rate')\n",
    "plt.xlabel('False Positive Rate')\n",
    "plt.legend(loc = 'lower right')\n",
    "plt.show()"
   ]
  },
  {
   "cell_type": "markdown",
   "metadata": {},
   "source": [
    "We want the blue curve to be as close to the top left corner as possible suggesting that 100% of the predictions are correct. Currently with an $AUC$ score of 0.85, we are still getting very good predictions."
   ]
  },
  {
   "cell_type": "markdown",
   "metadata": {},
   "source": [
    "### 4.2 - Run 5~fold CV & report avg.AUC and std.AUC"
   ]
  },
  {
   "cell_type": "markdown",
   "metadata": {},
   "source": [
    "In the example above we have only done 1 fold cross validation with 70-30. Now we will do 5 fold Cross Validation."
   ]
  },
  {
   "cell_type": "markdown",
   "metadata": {},
   "source": [
    "Credits for SMWrapper: https://stackoverflow.com/questions/41045752/using-statsmodel-estimations-with-scikit-learn-cross-validation-is-it-possible"
   ]
  },
  {
   "cell_type": "code",
   "execution_count": 40,
   "metadata": {},
   "outputs": [],
   "source": [
    "from sklearn.base import BaseEstimator, RegressorMixin\n",
    "class SMWrapper(BaseEstimator, RegressorMixin):\n",
    "    def __init__(self, model_class, fit_intercept=True):\n",
    "        self.model_class = model_class\n",
    "        self.fit_intercept = fit_intercept\n",
    "    def fit(self, X, y):\n",
    "        if self.fit_intercept:\n",
    "            X = sm.add_constant(X)\n",
    "        self.model_ = self.model_class(y, X)\n",
    "        self.results_ = self.model_.fit(disp=0)\n",
    "        return self\n",
    "    def predict(self, X):\n",
    "        if self.fit_intercept:\n",
    "            X = sm.add_constant(X)\n",
    "        return self.results_.predict(X)"
   ]
  },
  {
   "cell_type": "code",
   "execution_count": 41,
   "metadata": {},
   "outputs": [
    {
     "name": "stdout",
     "output_type": "stream",
     "text": [
      "5 fold CV has an avg. AUC 0.85942 and std. AUC 0.00312\n"
     ]
    }
   ],
   "source": [
    "# run 5 fold cross validation since the example above is only one iteration with 70-30\n",
    "auc_report = []\n",
    "std_report = []\n",
    "folds = 5\n",
    "\n",
    "kfolds = KFold(n_splits = folds, shuffle=True)\n",
    "  \n",
    "# se the cross_val_score function to fit K models\n",
    "# SMWrapper adds intercept so we are using x_log instead of x_logc\n",
    "\n",
    "scores = cross_val_score(SMWrapper(sm.Logit), x_log, y_log, cv=kfolds,\\\n",
    "                           scoring='roc_auc')\n",
    "\n",
    "# store the scores\n",
    "auc_report.append(np.mean(scores))\n",
    "std_report.append(np.std(scores))\n",
    "\n",
    "print(f\"5 fold CV has an avg. AUC {round(np.mean(scores), 5)} and std. AUC {round(np.std(scores), 5)}\")"
   ]
  },
  {
   "cell_type": "markdown",
   "metadata": {},
   "source": [
    "Now we want to reduce dimensionality while keeping as much of the data as possible. Since eigenvectors are vectors which when transformed change length but not direction, by sorting the eigenvectors of the covariance matrix in a descending order would mean that the first eigenvectors will represent the largest spread of the data. Therefore in the following code we will want to keep n first eigenvectors in order to account for the the most spread of the data we can by keeping only n features"
   ]
  },
  {
   "cell_type": "code",
   "execution_count": 42,
   "metadata": {},
   "outputs": [
    {
     "data": {
      "text/html": [
       "<div>\n",
       "<style scoped>\n",
       "    .dataframe tbody tr th:only-of-type {\n",
       "        vertical-align: middle;\n",
       "    }\n",
       "\n",
       "    .dataframe tbody tr th {\n",
       "        vertical-align: top;\n",
       "    }\n",
       "\n",
       "    .dataframe thead th {\n",
       "        text-align: right;\n",
       "    }\n",
       "</style>\n",
       "<table border=\"1\" class=\"dataframe\">\n",
       "  <thead>\n",
       "    <tr style=\"text-align: right;\">\n",
       "      <th></th>\n",
       "      <th>Score</th>\n",
       "      <th>Model Performance</th>\n",
       "    </tr>\n",
       "  </thead>\n",
       "  <tbody>\n",
       "    <tr>\n",
       "      <th></th>\n",
       "      <td>Avg. AUC</td>\n",
       "      <td>0.859425</td>\n",
       "    </tr>\n",
       "    <tr>\n",
       "      <th></th>\n",
       "      <td>Std. AUC</td>\n",
       "      <td>0.003117</td>\n",
       "    </tr>\n",
       "  </tbody>\n",
       "</table>\n",
       "</div>"
      ],
      "text/plain": [
       "     Score  Model Performance\n",
       "  Avg. AUC           0.859425\n",
       "  Std. AUC           0.003117"
      ]
     },
     "execution_count": 42,
     "metadata": {},
     "output_type": "execute_result"
    }
   ],
   "source": [
    "names = [\"Avg. AUC\", \"Std. AUC\"]\n",
    "orig_dim = [auc_report[0],std_report[0]]\n",
    "table_results = pd.DataFrame({\"Score\": names, \"Model Performance\": orig_dim})\n",
    "table_results.index = [''] * len(table_results)\n",
    "table_results"
   ]
  },
  {
   "cell_type": "markdown",
   "metadata": {},
   "source": [
    "### 4.3"
   ]
  },
  {
   "cell_type": "code",
   "execution_count": 43,
   "metadata": {},
   "outputs": [],
   "source": [
    "# define number of factors\n",
    "n = (20, 50, 100)\n",
    "\n",
    "# Define list to store the rows with n-first eigenvalues\n",
    "pca = [ [] for i in range(len(n))]\n",
    "\n",
    "# Mean of the x data\n",
    "x_log_mean = x_log.mean(axis = 0)\n",
    "\n",
    "# centering the data \n",
    "x_log -= x_log_mean  \n",
    "\n",
    "# covariance matrix\n",
    "cov_x = np.cov(x_log.T)\n",
    "\n",
    "# get eigenvectors (v) and eigenvalues (w)\n",
    "w, v = LA.eig(cov_x)\n",
    "\n",
    "# get idx in descending order based on w\n",
    "inx = w.argsort()[::-1]\n",
    "\n",
    "# sort eig.vectors and eig.values\n",
    "w, v = w[inx], v[:, inx]\n",
    "\n",
    "i = 0\n",
    "\n",
    "for k in n:\n",
    "    \n",
    "    # get the first n eig.vectors \n",
    "    v_first = v[:, :k]\n",
    "\n",
    "    # getting eigenvalues to test variability\n",
    "\n",
    "    pp = x_log.dot(v_first)\n",
    "    pca[i].append(pp)\n",
    "\n",
    "\n",
    "    i += 1"
   ]
  },
  {
   "cell_type": "code",
   "execution_count": 44,
   "metadata": {},
   "outputs": [],
   "source": [
    "# We have to turn the pca elements into arrays and fix their shape since we stored the pca results in a list above\n",
    "\n",
    "pca_matrix = [np.asarray(pca[0]), np.asarray(pca[1]), np.asarray(pca[2])]\n",
    "i = 0\n",
    "for array in pca_matrix:\n",
    "\n",
    "    pca_matrix[i] = np.reshape(array, (array.shape[1], array.shape[2]))\n",
    "\n",
    "    i += 1"
   ]
  },
  {
   "cell_type": "markdown",
   "metadata": {},
   "source": [
    "Apply transformation to the whole dataset: below is each transformation, we have cut the output due to it being too big"
   ]
  },
  {
   "cell_type": "code",
   "execution_count": 45,
   "metadata": {},
   "outputs": [],
   "source": [
    "# dataset with 20, 50, 100 factors after PCA \n",
    "pca_20, pca_50, pca_100 = pca_matrix\n",
    "\n",
    "pca_20;\n",
    "pca_50;\n",
    "pca_100;"
   ]
  },
  {
   "cell_type": "markdown",
   "metadata": {},
   "source": [
    "We know that the formula to measure the total variability captured by each of the PCA transformations. Since we are ordering eigenvalues and eigenvectors in descending order, the variability captures by first \"n\" eigenvalues is determined by  \n",
    "$$\n",
    "\\frac{\\lambda_{j=1}^m}{\\sum_{k=1}^p \\lambda_k}\n",
    "$$ \n",
    "\n",
    "Therefore, below we have written a short code that will calculate the total variability based on this formula."
   ]
  },
  {
   "cell_type": "code",
   "execution_count": 46,
   "metadata": {},
   "outputs": [
    {
     "name": "stdout",
     "output_type": "stream",
     "text": [
      "With 20 features we can account for 43.9% of the total variability from original dataset\n",
      "With 50 features we can account for 72.88% of the total variability from original dataset\n",
      "With 100 features we can account for 92.75% of the total variability from original dataset\n"
     ]
    }
   ],
   "source": [
    "# testing how much variability we are capturing using eigenvalues\n",
    "\n",
    "total_sum_eig = np.sum(w)\n",
    "\n",
    "for i in n:\n",
    "\n",
    "    variance = (np.sum(w[:i]/total_sum_eig)) * 100\n",
    "\n",
    "    print(f\"With {i} features we can account for {round(variance,2)}% of the total variability from original dataset\")"
   ]
  },
  {
   "cell_type": "markdown",
   "metadata": {},
   "source": [
    "Below we have the dataset after we have applied the transformations to reduce dimensionality to 20, 50, and 100 factors"
   ]
  },
  {
   "cell_type": "markdown",
   "metadata": {},
   "source": [
    "### 4.4 "
   ]
  },
  {
   "cell_type": "markdown",
   "metadata": {},
   "source": [
    "<b> 5~fold CV for each PCA transformation </b>"
   ]
  },
  {
   "cell_type": "code",
   "execution_count": 47,
   "metadata": {},
   "outputs": [
    {
     "name": "stdout",
     "output_type": "stream",
     "text": [
      "5 fold CV for dataset with dimenasionality reduced to 20 factors has average AUC 0.610339 and Std. 0.0051\n",
      "5 fold CV for dataset with dimenasionality reduced to 50 factors has average AUC 0.707247 and Std. 0.0044\n",
      "5 fold CV for dataset with dimenasionality reduced to 100 factors has average AUC 0.776169 and Std. 0.0021\n"
     ]
    }
   ],
   "source": [
    "# iterating through each PCA transformation\n",
    "\n",
    "for pca in pca_matrix:\n",
    "\n",
    "    folds = 5\n",
    "\n",
    "    kfolds = KFold(n_splits = folds, shuffle=True)\n",
    "  \n",
    "    scores = cross_val_score(SMWrapper(sm.Logit), pca, y_log, cv=kfolds,\\\n",
    "                           scoring='roc_auc')\n",
    "\n",
    "    print('5 fold CV for dataset with dimenasionality reduced to {0} factors has average AUC {1:.6f} and Std. {2:.4f}'.format(pca.shape[1],np.mean(scores),np.std(scores)))\n",
    "\n",
    "    auc_report.append(np.mean(scores))\n",
    "    std_report.append(np.std(scores))  "
   ]
  },
  {
   "cell_type": "code",
   "execution_count": 48,
   "metadata": {},
   "outputs": [
    {
     "data": {
      "text/html": [
       "<div>\n",
       "<style scoped>\n",
       "    .dataframe tbody tr th:only-of-type {\n",
       "        vertical-align: middle;\n",
       "    }\n",
       "\n",
       "    .dataframe tbody tr th {\n",
       "        vertical-align: top;\n",
       "    }\n",
       "\n",
       "    .dataframe thead th {\n",
       "        text-align: right;\n",
       "    }\n",
       "</style>\n",
       "<table border=\"1\" class=\"dataframe\">\n",
       "  <thead>\n",
       "    <tr style=\"text-align: right;\">\n",
       "      <th></th>\n",
       "      <th>Score</th>\n",
       "      <th>Orig. dim.</th>\n",
       "      <th>PCA-20</th>\n",
       "      <th>PCA-50</th>\n",
       "      <th>PCA-100</th>\n",
       "    </tr>\n",
       "  </thead>\n",
       "  <tbody>\n",
       "    <tr>\n",
       "      <th></th>\n",
       "      <td>Avg. AUC</td>\n",
       "      <td>0.859425</td>\n",
       "      <td>0.610339</td>\n",
       "      <td>0.707247</td>\n",
       "      <td>0.776169</td>\n",
       "    </tr>\n",
       "    <tr>\n",
       "      <th></th>\n",
       "      <td>Std. AUC</td>\n",
       "      <td>0.003117</td>\n",
       "      <td>0.005121</td>\n",
       "      <td>0.004410</td>\n",
       "      <td>0.002058</td>\n",
       "    </tr>\n",
       "  </tbody>\n",
       "</table>\n",
       "</div>"
      ],
      "text/plain": [
       "     Score  Orig. dim.    PCA-20    PCA-50   PCA-100\n",
       "  Avg. AUC    0.859425  0.610339  0.707247  0.776169\n",
       "  Std. AUC    0.003117  0.005121  0.004410  0.002058"
      ]
     },
     "execution_count": 48,
     "metadata": {},
     "output_type": "execute_result"
    }
   ],
   "source": [
    "pca_20 = [auc_report[1], std_report[1]]\n",
    "pca_50 = [auc_report[2], std_report[2]]\n",
    "pca_100 = [auc_report[3], std_report[3]]\n",
    "\n",
    "table_results = pd.DataFrame({\"Score\": names, \"Orig. dim.\": orig_dim, \"PCA-20\": pca_20, \"PCA-50\": pca_50, \"PCA-100\": pca_100})\n",
    "table_results.index = [''] * len(table_results)\n",
    "table_results"
   ]
  },
  {
   "cell_type": "markdown",
   "metadata": {},
   "source": [
    "### 4.5 Choosing model to be used by the bank"
   ]
  },
  {
   "cell_type": "markdown",
   "metadata": {},
   "source": [
    "In 4.1 we trained the model using 70% of the data for training and 30% for testing. In 4.2, we used a 5 fold CV, where we iterate five times and split the dataset into 5 folds, 4 which are used for training and 1 for testing, until each has been used for testing once. In 4.4 we reduce the dimensionality of the data while accounting for the most variability we can given the number of factors (20,50,100). Afterwards we are repeating 4.2 for each of them. To choose the best model we will look at three things: AUC score, variability, and model complexity. Hence, we decided that the bank should use the model PCA_50 because at 50 fetures we still keep more than 70% of the variability but reduce the complexity by 75%. In addition, PCA_50 has an AUC score of 0.707, only 0.07 less than PCA_100 which includes over 90% variability but had twice as many features. "
   ]
  },
  {
   "cell_type": "code",
   "execution_count": 49,
   "metadata": {},
   "outputs": [
    {
     "name": "stderr",
     "output_type": "stream",
     "text": [
      "[NbConvertApp] Converting notebook midterm.ipynb to HTML\n",
      "[NbConvertApp] Writing 917681 bytes to midterm.html\n"
     ]
    }
   ],
   "source": [
    "!jupyter nbconvert --to HTML midterm.ipynb"
   ]
  }
 ],
 "metadata": {
  "interpreter": {
   "hash": "502b4f985cf1bc9beab785d95708a81953b7919cc80ddaf39c305bee0998c0dc"
  },
  "kernelspec": {
   "display_name": "Python 3.8.8 ('base')",
   "language": "python",
   "name": "python3"
  },
  "language_info": {
   "codemirror_mode": {
    "name": "ipython",
    "version": 3
   },
   "file_extension": ".py",
   "mimetype": "text/x-python",
   "name": "python",
   "nbconvert_exporter": "python",
   "pygments_lexer": "ipython3",
   "version": "3.8.8"
  },
  "orig_nbformat": 4
 },
 "nbformat": 4,
 "nbformat_minor": 2
}
